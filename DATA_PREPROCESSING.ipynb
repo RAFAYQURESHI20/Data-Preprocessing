{
  "nbformat": 4,
  "nbformat_minor": 0,
  "metadata": {
    "colab": {
      "provenance": []
    },
    "kernelspec": {
      "name": "python3",
      "display_name": "Python 3"
    },
    "language_info": {
      "name": "python"
    }
  },
  "cells": [
    {
      "cell_type": "markdown",
      "source": [
        "# **SIMPLE IMPUTATION**"
      ],
      "metadata": {
        "id": "kSnLo45Ubhhl"
      }
    },
    {
      "cell_type": "code",
      "execution_count": null,
      "metadata": {
        "id": "4T3WQjatYIeZ"
      },
      "outputs": [],
      "source": [
        "from sklearn.impute import SimpleImputer\n",
        "import numpy as np"
      ]
    },
    {
      "cell_type": "code",
      "source": [
        "data=np.array([\n",
        "    [1,2,np.nan],\n",
        "    [1,np.nan,3],\n",
        "    [np.nan,2,3]\n",
        "])"
      ],
      "metadata": {
        "id": "WqRBrIiEYbxe"
      },
      "execution_count": null,
      "outputs": []
    },
    {
      "cell_type": "code",
      "source": [
        "imputer=SimpleImputer(strategy='mean')\n",
        "imputeddata=imputer.fit_transform(data)\n",
        "print(imputeddata)"
      ],
      "metadata": {
        "colab": {
          "base_uri": "https://localhost:8080/"
        },
        "id": "MSJK6BKFZQZy",
        "outputId": "50cd6c6f-8360-45d0-ed78-dfe3b119c447"
      },
      "execution_count": null,
      "outputs": [
        {
          "output_type": "stream",
          "name": "stdout",
          "text": [
            "[[1. 2. 3.]\n",
            " [1. 2. 3.]\n",
            " [1. 2. 3.]]\n"
          ]
        }
      ]
    },
    {
      "cell_type": "code",
      "source": [
        "imputer=SimpleImputer(strategy='constant',fill_value=2)\n",
        "imputeddata=imputer.fit_transform(data)\n",
        "print(imputeddata)"
      ],
      "metadata": {
        "colab": {
          "base_uri": "https://localhost:8080/"
        },
        "id": "iABBO0IwZ1cu",
        "outputId": "0808e353-3cb1-4b50-afc9-99167c004729"
      },
      "execution_count": null,
      "outputs": [
        {
          "output_type": "stream",
          "name": "stdout",
          "text": [
            "[[1. 2. 2.]\n",
            " [1. 2. 3.]\n",
            " [2. 2. 3.]]\n"
          ]
        }
      ]
    },
    {
      "cell_type": "markdown",
      "source": [
        "# **KNN IMPUTATION**"
      ],
      "metadata": {
        "id": "Zi1f_vWobcqH"
      }
    },
    {
      "cell_type": "code",
      "source": [
        "from sklearn.impute import KNNImputer"
      ],
      "metadata": {
        "id": "92DQ0nbybQLR"
      },
      "execution_count": null,
      "outputs": []
    },
    {
      "cell_type": "code",
      "source": [
        "imputer=KNNImputer(n_neighbors=2)\n",
        "imputeddata=imputer.fit_transform(data)\n",
        "print(imputeddata)"
      ],
      "metadata": {
        "colab": {
          "base_uri": "https://localhost:8080/"
        },
        "id": "t-VZ5W7hbWSG",
        "outputId": "f9e2826e-105b-4851-8eae-a5ebc41f624b"
      },
      "execution_count": null,
      "outputs": [
        {
          "output_type": "stream",
          "name": "stdout",
          "text": [
            "[[1. 2. 3.]\n",
            " [1. 2. 3.]\n",
            " [1. 2. 3.]]\n"
          ]
        }
      ]
    },
    {
      "cell_type": "markdown",
      "source": [
        "# **MIN MAX SCALING**"
      ],
      "metadata": {
        "id": "4PDVlowKbsvk"
      }
    },
    {
      "cell_type": "code",
      "source": [
        "from sklearn.preprocessing import MinMaxScaler"
      ],
      "metadata": {
        "id": "x3S4w1J-d0M2"
      },
      "execution_count": null,
      "outputs": []
    },
    {
      "cell_type": "code",
      "source": [
        "data=np.array([\n",
        "    [1,2,3],\n",
        "    [4,5,6],\n",
        "    [7,8,9]\n",
        "])"
      ],
      "metadata": {
        "id": "rwd8Ns5nd50F"
      },
      "execution_count": null,
      "outputs": []
    },
    {
      "cell_type": "code",
      "source": [
        "scaler=MinMaxScaler()\n",
        "scaleddata=scaler.fit_transform(data)\n",
        "print(scaleddata)"
      ],
      "metadata": {
        "colab": {
          "base_uri": "https://localhost:8080/"
        },
        "id": "4JpXAEdqd9Dx",
        "outputId": "28424779-3864-4250-df57-7d178206eb8e"
      },
      "execution_count": null,
      "outputs": [
        {
          "output_type": "stream",
          "name": "stdout",
          "text": [
            "[[0.  0.  0. ]\n",
            " [0.5 0.5 0.5]\n",
            " [1.  1.  1. ]]\n"
          ]
        }
      ]
    },
    {
      "cell_type": "markdown",
      "source": [
        "# **FEATURE EXTRACTION**"
      ],
      "metadata": {
        "id": "Fe9Gr3WQf1J6"
      }
    },
    {
      "cell_type": "markdown",
      "source": [
        "# **Count VECTORIZER**"
      ],
      "metadata": {
        "id": "bxmRKI2whkdS"
      }
    },
    {
      "cell_type": "code",
      "source": [
        "from sklearn.feature_extraction.text import CountVectorizer"
      ],
      "metadata": {
        "id": "SuOAC978hEHL"
      },
      "execution_count": null,
      "outputs": []
    },
    {
      "cell_type": "code",
      "source": [
        "data=['This is the first document','This document is the second document','And this is the third one']"
      ],
      "metadata": {
        "id": "7OFxYRVdf9W2"
      },
      "execution_count": null,
      "outputs": []
    },
    {
      "cell_type": "code",
      "source": [
        "vectorizer = CountVectorizer()\n",
        "bagofwords = vectorizer.fit_transform(data)\n",
        "print(bagofwords.toarray())"
      ],
      "metadata": {
        "colab": {
          "base_uri": "https://localhost:8080/"
        },
        "id": "B5HnK3SbgDFX",
        "outputId": "c0a6e83e-995d-4fe3-afaa-f92984bda77d"
      },
      "execution_count": null,
      "outputs": [
        {
          "output_type": "stream",
          "name": "stdout",
          "text": [
            "[[0 1 1 1 0 0 1 0 1]\n",
            " [0 2 0 1 0 1 1 0 1]\n",
            " [1 0 0 1 1 0 1 1 1]]\n"
          ]
        }
      ]
    },
    {
      "cell_type": "markdown",
      "source": [
        "# **DICT VECTORIZER**"
      ],
      "metadata": {
        "id": "RjQoDQ9dhtG8"
      }
    },
    {
      "cell_type": "code",
      "source": [
        "from sklearn.feature_extraction import DictVectorizer"
      ],
      "metadata": {
        "id": "Yh2B_TjZhrc6"
      },
      "execution_count": null,
      "outputs": []
    },
    {
      "cell_type": "code",
      "source": [
        "data=[\n",
        "    {'city':'New York'},\n",
        "    {'city':'San Francisco'},\n",
        "    {'city':'Seattle'}\n",
        "]"
      ],
      "metadata": {
        "id": "83pHTBpqh2Q7"
      },
      "execution_count": null,
      "outputs": []
    },
    {
      "cell_type": "code",
      "source": [
        "dict=DictVectorizer(sparse=False)\n",
        "dictdata=dict.fit_transform(data)\n",
        "featurename=dict.get_feature_names_out()\n",
        "print(featurename)\n",
        "print(dictdata)"
      ],
      "metadata": {
        "colab": {
          "base_uri": "https://localhost:8080/"
        },
        "id": "ecaJmVo2iAOk",
        "outputId": "2d434ab1-72e3-4045-de85-cffbdf0e24fd"
      },
      "execution_count": null,
      "outputs": [
        {
          "output_type": "stream",
          "name": "stdout",
          "text": [
            "['city=New York' 'city=San Francisco' 'city=Seattle']\n",
            "[[1. 0. 0.]\n",
            " [0. 1. 0.]\n",
            " [0. 0. 1.]]\n"
          ]
        }
      ]
    }
  ]
}